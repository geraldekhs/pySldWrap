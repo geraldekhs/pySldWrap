{
 "cells": [
  {
   "cell_type": "markdown",
   "metadata": {},
   "source": [
    "## Use Case 1\n",
    "* Extract file properties from all parts, put them into an excel file\n",
    "* Modify the excel file\n",
    "* Extract data from modified excel file, use this to modify data in part files.\n",
    "* Generate the modified BOM (done within Solidworks and not using python)\n",
    "\n",
    "## Use Case 2\n",
    "* Changing property values in multiple part files (currently supports same values only)\n",
    "* Eg. 10 part files need their project names changed"
   ]
  },
  {
   "cell_type": "code",
   "execution_count": 110,
   "metadata": {},
   "outputs": [],
   "source": [
    "import pySldWrap.sw_tools as sw_tools\n",
    "import importlib\n",
    "import os\n",
    "from pathlib import Path\n",
    "import time "
   ]
  },
  {
   "cell_type": "code",
   "execution_count": 111,
   "metadata": {},
   "outputs": [],
   "source": [
    "\n",
    "# !Solidworks must be open before running the code below: \n",
    "\n",
    "#reloads sw_tools module so changes in .py file actually work without restarting the kernel when running the cell blocks below\n",
    "#reload causes all variables to be lost; do not do it in other cells besides this block\n",
    "importlib.reload(sw_tools)\n",
    "sw_tools.connect_sw(\"2024\")  # open connection and pass Solidworks version"
   ]
  },
  {
   "cell_type": "markdown",
   "metadata": {},
   "source": [
    "### Code to retrieve file properties for a **single part**"
   ]
  },
  {
   "cell_type": "code",
   "execution_count": 95,
   "metadata": {},
   "outputs": [
    {
     "data": {
      "text/plain": [
       "'\\nCode for a single part\\n'"
      ]
     },
     "execution_count": 95,
     "metadata": {},
     "output_type": "execute_result"
    }
   ],
   "source": [
    "'''\n",
    "Code for a single part\n",
    "'''\n",
    "# part_path = './Test_files\\LS3.SLDPRT'\n",
    "# model = sw_tools.open_part(part_path)  # open the model, link is returned\n",
    "# custom_properties = sw_tools.get_custom_file_properties(part_path)\n",
    "\n",
    "# a = sw_tools.export_custom_file_properties(custom_properties)"
   ]
  },
  {
   "cell_type": "markdown",
   "metadata": {},
   "source": [
    "### Code to retrieve file properties for **multiple parts**"
   ]
  },
  {
   "cell_type": "code",
   "execution_count": 115,
   "metadata": {},
   "outputs": [
    {
     "name": "stdout",
     "output_type": "stream",
     "text": [
      "Execution time: 67.02 seconds\n"
     ]
    }
   ],
   "source": [
    "directory = \"./Test_files\"\n",
    "part_path = ''\n",
    "\n",
    "# start_time = time.perf_counter()\n",
    "\n",
    "for path, folders, files in os.walk(directory):\n",
    "    for filename in files:\n",
    "        # check for part files and assemblies\n",
    "        try:\n",
    "            if filename.endswith(('.SLDPRT','.SLDASM')):\n",
    "                part_path = os.path.join(directory, filename)\n",
    "                model = sw_tools.open_part(part_path)\n",
    "                custom_properties = sw_tools.get_custom_file_properties(part_path)\n",
    "                sw_tools.export_custom_file_properties(custom_properties)\n",
    "                #close files to reduce memory taken up; essential for reducing time taken for whole process\n",
    "                sw_tools.close(part_path.split('\\\\')[-1])\n",
    "        except:\n",
    "            continue\n",
    "\n",
    "# end_time = time.perf_counter()\n",
    "# execution_time = end_time - start_time\n",
    "# print(f\"Execution time: {execution_time:.2f} seconds\")"
   ]
  }
 ],
 "metadata": {
  "kernelspec": {
   "display_name": "base",
   "language": "python",
   "name": "python3"
  },
  "language_info": {
   "codemirror_mode": {
    "name": "ipython",
    "version": 3
   },
   "file_extension": ".py",
   "mimetype": "text/x-python",
   "name": "python",
   "nbconvert_exporter": "python",
   "pygments_lexer": "ipython3",
   "version": "3.11.7"
  }
 },
 "nbformat": 4,
 "nbformat_minor": 2
}
