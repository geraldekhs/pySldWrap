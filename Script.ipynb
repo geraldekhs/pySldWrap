{
 "cells": [
  {
   "cell_type": "code",
   "execution_count": 52,
   "metadata": {},
   "outputs": [],
   "source": [
    "import pySldWrap.sw_tools as sw_tools\n",
    "import importlib\n",
    "from pathlib import Path"
   ]
  },
  {
   "cell_type": "code",
   "execution_count": 72,
   "metadata": {},
   "outputs": [
    {
     "name": "stdout",
     "output_type": "stream",
     "text": [
      "28a\n"
     ]
    }
   ],
   "source": [
    "\n",
    "# !Solidworks must be open before running the code below: \n",
    "\n",
    "#reloads sw_tools module so changes in .py file actually work without restarting the kernel when running the cell blocks below\n",
    "#reload causes all variables to be lost; do not do it in other cells besides this block\n",
    "importlib.reload(sw_tools)\n",
    "\n",
    "sw_tools.connect_sw(\"2024\")  # open connection and pass Solidworks version\n",
    "\n",
    "path = './Test_files/LS3.SLDPRT'\n",
    "\n",
    "model = sw_tools.open_part(path)  # open the model, link is returned\n",
    "\n",
    "custom_properties = sw_tools.get_custom_file_properties(path)"
   ]
  },
  {
   "cell_type": "markdown",
   "metadata": {},
   "source": [
    "# Overall Steps\n",
    "1. Make a for loop that runs edit custom properties for parts and assemblies in a directory."
   ]
  },
  {
   "cell_type": "code",
   "execution_count": 7,
   "metadata": {},
   "outputs": [],
   "source": [
    "sw_tools.close(path) "
   ]
  }
 ],
 "metadata": {
  "kernelspec": {
   "display_name": "base",
   "language": "python",
   "name": "python3"
  },
  "language_info": {
   "codemirror_mode": {
    "name": "ipython",
    "version": 3
   },
   "file_extension": ".py",
   "mimetype": "text/x-python",
   "name": "python",
   "nbconvert_exporter": "python",
   "pygments_lexer": "ipython3",
   "version": "3.11.7"
  }
 },
 "nbformat": 4,
 "nbformat_minor": 2
}
