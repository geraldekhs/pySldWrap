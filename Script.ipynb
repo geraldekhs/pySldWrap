{
 "cells": [
  {
   "cell_type": "markdown",
   "metadata": {},
   "source": [
    "## Use Case 1\n",
    "* Extract file properties from all parts, put them into an excel file\n",
    "* Modify the excel file\n",
    "* Extract data from modified excel file, use this to modify data in part files.\n",
    "* Generate the modified BOM (done within Solidworks and not using python)\n",
    "\n",
    "## Use Case 2\n",
    "* Changing property values in multiple part files (currently supports same values only)\n",
    "* Eg. 10 part files need their project names changed"
   ]
  },
  {
   "cell_type": "code",
   "execution_count": 3,
   "metadata": {},
   "outputs": [],
   "source": [
    "import pySldWrap.sw_tools as sw_tools\n",
    "import importlib\n",
    "import os\n",
    "from pathlib import Path\n",
    "import time "
   ]
  },
  {
   "cell_type": "code",
   "execution_count": 2,
   "metadata": {},
   "outputs": [
    {
     "ename": "NameError",
     "evalue": "name 'importlib' is not defined",
     "output_type": "error",
     "traceback": [
      "\u001b[1;31m---------------------------------------------------------------------------\u001b[0m",
      "\u001b[1;31mNameError\u001b[0m                                 Traceback (most recent call last)",
      "Cell \u001b[1;32mIn[2], line 5\u001b[0m\n\u001b[0;32m      1\u001b[0m \u001b[38;5;66;03m# !Solidworks must be open before running the code below: \u001b[39;00m\n\u001b[0;32m      2\u001b[0m \n\u001b[0;32m      3\u001b[0m \u001b[38;5;66;03m#reloads sw_tools module so changes in .py file actually work without restarting the kernel when running the cell blocks below\u001b[39;00m\n\u001b[0;32m      4\u001b[0m \u001b[38;5;66;03m#reload causes all variables to be lost; do not do it in other cells besides this block\u001b[39;00m\n\u001b[1;32m----> 5\u001b[0m \u001b[43mimportlib\u001b[49m\u001b[38;5;241m.\u001b[39mreload(sw_tools)\n\u001b[0;32m      6\u001b[0m sw_tools\u001b[38;5;241m.\u001b[39mconnect_sw(\u001b[38;5;124m\"\u001b[39m\u001b[38;5;124m2024\u001b[39m\u001b[38;5;124m\"\u001b[39m)  \u001b[38;5;66;03m# open connection and pass Solidworks version\u001b[39;00m\n",
      "\u001b[1;31mNameError\u001b[0m: name 'importlib' is not defined"
     ]
    }
   ],
   "source": [
    "\n",
    "# !Solidworks must be open before running the code below: \n",
    "\n",
    "#reloads sw_tools module so changes in .py file actually work without restarting the kernel when running the cell blocks below\n",
    "#reload causes all variables to be lost; do not do it in other cells besides this block\n",
    "importlib.reload(sw_tools)\n",
    "sw_tools.connect_sw(\"2024\")  # open connection and pass Solidworks version"
   ]
  },
  {
   "cell_type": "markdown",
   "metadata": {},
   "source": [
    "### Code to retrieve file properties for a **single part**"
   ]
  },
  {
   "cell_type": "code",
   "execution_count": 95,
   "metadata": {},
   "outputs": [
    {
     "data": {
      "text/plain": [
       "'\\nCode for a single part\\n'"
      ]
     },
     "execution_count": 95,
     "metadata": {},
     "output_type": "execute_result"
    }
   ],
   "source": [
    "'''\n",
    "Code for a single part\n",
    "'''\n",
    "# part_path = './Test_files\\LS3.SLDPRT'\n",
    "# model = sw_tools.open_part(part_path)  # open the model, link is returned\n",
    "# custom_properties = sw_tools.get_custom_file_properties(part_path)\n",
    "\n",
    "# a = sw_tools.export_custom_file_properties(custom_properties)"
   ]
  },
  {
   "cell_type": "markdown",
   "metadata": {},
   "source": [
    "### Code to retrieve file properties for **multiple parts**"
   ]
  },
  {
   "cell_type": "code",
   "execution_count": 6,
   "metadata": {},
   "outputs": [
    {
     "name": "stdout",
     "output_type": "stream",
     "text": [
      "['Title' 'LS1']\n",
      "<class 'numpy.ndarray'>\n",
      "   Title  Creation Date  Revision  V_Name             Description  Project  \\\n",
      "0  Title  Creation Date  Revision  V_Name             Description  Project   \n",
      "1    LS1                                   Bumper Shell Interface       --   \n",
      "\n",
      "   Material  SurfaceFinish  Commodity  Manufacturer  ...  CheckedBy  \\\n",
      "0  Material  SurfaceFinish  Commodity  Manufacturer  ...  CheckedBy   \n",
      "1        --             --        CBL            --  ...         --   \n",
      "\n",
      "   CheckedDate  EngApproval  EngAppDate  MfgApproval  MfgAppDate  QAApproval  \\\n",
      "0  CheckedDate  EngApproval  EngAppDate  MfgApproval  MfgAppDate  QAApproval   \n",
      "1                        --                       --                      --   \n",
      "\n",
      "   QAAppDate  Remarks  Enterprise Part No.  \n",
      "0  QAAppDate  Remarks  Enterprise Part No.  \n",
      "1                                           \n",
      "\n",
      "[2 rows x 28 columns]\n",
      "['Title' 'LS2']\n",
      "<class 'numpy.ndarray'>\n",
      "   Title  Creation Date  Revision  V_Name  \\\n",
      "0  Title  Creation Date  Revision  V_Name   \n",
      "1    LS2                                    \n",
      "\n",
      "                                         Description  Project  Material  \\\n",
      "0                                        Description  Project  Material   \n",
      "1  Base-Shell Breakout (From Main Body Components...       --        --   \n",
      "\n",
      "   SurfaceFinish  Commodity  Manufacturer  ...  CheckedBy  CheckedDate  \\\n",
      "0  SurfaceFinish  Commodity  Manufacturer  ...  CheckedBy  CheckedDate   \n",
      "1             --        CBL            --  ...         --                \n",
      "\n",
      "   EngApproval  EngAppDate  MfgApproval  MfgAppDate  QAApproval  QAAppDate  \\\n",
      "0  EngApproval  EngAppDate  MfgApproval  MfgAppDate  QAApproval  QAAppDate   \n",
      "1           --                       --                      --              \n",
      "\n",
      "   Remarks  Enterprise Part No.  \n",
      "0  Remarks  Enterprise Part No.  \n",
      "1                                \n",
      "\n",
      "[2 rows x 28 columns]\n",
      "['Title' 'LS3']\n",
      "<class 'numpy.ndarray'>\n",
      "   Title  Creation Date  Revision  V_Name  \\\n",
      "0  Title  Creation Date  Revision  V_Name   \n",
      "1    LS3                                    \n",
      "\n",
      "                            Description  Project  Material  SurfaceFinish  \\\n",
      "0                           Description  Project  Material  SurfaceFinish   \n",
      "1  Rear Aux (Kernel Module to Rear Fan)       --        --             --   \n",
      "\n",
      "   Commodity  Manufacturer  ...  CheckedBy  CheckedDate  EngApproval  \\\n",
      "0  Commodity  Manufacturer  ...  CheckedBy  CheckedDate  EngApproval   \n",
      "1        CBL            --  ...         --                        --   \n",
      "\n",
      "   EngAppDate  MfgApproval  MfgAppDate  QAApproval  QAAppDate  Remarks  \\\n",
      "0  EngAppDate  MfgApproval  MfgAppDate  QAApproval  QAAppDate  Remarks   \n",
      "1                       --                      --                       \n",
      "\n",
      "   Enterprise Part No.  \n",
      "0  Enterprise Part No.  \n",
      "1                       \n",
      "\n",
      "[2 rows x 28 columns]\n",
      "['Title' 'LS4a']\n",
      "<class 'numpy.ndarray'>\n",
      "   Title  Creation Date  Revision  V_Name                 Description  \\\n",
      "0  Title  Creation Date  Revision  V_Name                 Description   \n",
      "1   LS4a                                   NVR (Kernel Module to NVR)   \n",
      "\n",
      "   Project  Material  SurfaceFinish  Commodity  Manufacturer  ...  CheckedBy  \\\n",
      "0  Project  Material  SurfaceFinish  Commodity  Manufacturer  ...  CheckedBy   \n",
      "1       --        --             --        CBL            --  ...         --   \n",
      "\n",
      "   CheckedDate  EngApproval  EngAppDate  MfgApproval  MfgAppDate  QAApproval  \\\n",
      "0  CheckedDate  EngApproval  EngAppDate  MfgApproval  MfgAppDate  QAApproval   \n",
      "1                        --                       --                      --   \n",
      "\n",
      "   QAAppDate  Remarks  Enterprise Part No.  \n",
      "0  QAAppDate  Remarks  Enterprise Part No.  \n",
      "1                                           \n",
      "\n",
      "[2 rows x 28 columns]\n",
      "['Title' 'LS4b']\n",
      "<class 'numpy.ndarray'>\n",
      "   Title  Creation Date  Revision  V_Name  \\\n",
      "0  Title  Creation Date  Revision  V_Name   \n",
      "1   LS4b                                    \n",
      "\n",
      "                                         Description  Project  Material  \\\n",
      "0                                        Description  Project  Material   \n",
      "1  Front Aux (From Kernel Module to Speakers + In...       --        --   \n",
      "\n",
      "   SurfaceFinish  Commodity  Manufacturer  ...  CheckedBy  CheckedDate  \\\n",
      "0  SurfaceFinish  Commodity  Manufacturer  ...  CheckedBy  CheckedDate   \n",
      "1             --        CBL            --  ...         --                \n",
      "\n",
      "   EngApproval  EngAppDate  MfgApproval  MfgAppDate  QAApproval  QAAppDate  \\\n",
      "0  EngApproval  EngAppDate  MfgApproval  MfgAppDate  QAApproval  QAAppDate   \n",
      "1           --                       --                      --              \n",
      "\n",
      "   Remarks  Enterprise Part No.  \n",
      "0  Remarks  Enterprise Part No.  \n",
      "1                                \n",
      "\n",
      "[2 rows x 28 columns]\n"
     ]
    }
   ],
   "source": [
    "importlib.reload(sw_tools)\n",
    "sw_tools.connect_sw(\"2024\")\n",
    "\n",
    "directory = \"./Test_files\"\n",
    "part_path = ''\n",
    "\n",
    "# start_time = time.perf_counter()\n",
    "\n",
    "for path, folders, files in os.walk(directory):\n",
    "    for filename in files:\n",
    "        # check for part files and assemblies\n",
    "        try:\n",
    "            if filename.endswith(('.SLDPRT','.SLDASM')):\n",
    "                part_path = os.path.join(directory, filename)\n",
    "                model = sw_tools.open_part(part_path)\n",
    "                custom_properties = sw_tools.get_custom_file_properties(part_path)\n",
    "                sw_tools.export_custom_file_properties(custom_properties)\n",
    "                #close files to reduce memory taken up; essential for reducing time taken for whole process\n",
    "                sw_tools.close(part_path.split('\\\\')[-1])\n",
    "        except:\n",
    "            continue\n",
    "\n",
    "# end_time = time.perf_counter()\n",
    "# execution_time = end_time - start_time\n",
    "# print(f\"Execution time: {execution_time:.2f} seconds\")"
   ]
  }
 ],
 "metadata": {
  "kernelspec": {
   "display_name": "base",
   "language": "python",
   "name": "python3"
  },
  "language_info": {
   "codemirror_mode": {
    "name": "ipython",
    "version": 3
   },
   "file_extension": ".py",
   "mimetype": "text/x-python",
   "name": "python",
   "nbconvert_exporter": "python",
   "pygments_lexer": "ipython3",
   "version": "3.11.7"
  }
 },
 "nbformat": 4,
 "nbformat_minor": 2
}
