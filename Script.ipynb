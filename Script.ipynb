{
 "cells": [
  {
   "cell_type": "markdown",
   "metadata": {},
   "source": [
    "## Use Case 1\n",
    "* Extract file properties from all parts, put them into an excel file\n",
    "* Modify the excel file\n",
    "* Extract data from modified excel file, use this to modify data in part files.\n",
    "* Generate the modified BOM (done within Solidworks and not using python)\n",
    "\n",
    "## Use Case 2\n",
    "* Changing property values in multiple part files (currently supports same values only)\n",
    "* Eg. 10 part files need their project names changed"
   ]
  },
  {
   "cell_type": "code",
   "execution_count": 4,
   "metadata": {},
   "outputs": [
    {
     "name": "stdout",
     "output_type": "stream",
     "text": [
      "[1, 2, 3]\n",
      "<class 'str'>\n"
     ]
    }
   ],
   "source": [
    "list2 = [1,2,3]\n",
    "a = str(list2)\n",
    "print(a)\n",
    "\n",
    "print(type(a))\n"
   ]
  },
  {
   "cell_type": "code",
   "execution_count": 5,
   "metadata": {},
   "outputs": [
    {
     "name": "stdout",
     "output_type": "stream",
     "text": [
      "      A  B  C\n",
      "row1  1  4  7\n",
      "row2  2  5  8\n",
      "row3  3  6  9\n",
      "      A  B   C\n",
      "row1  1  4   7\n",
      "row2  2  0   8\n",
      "row3  4  6  10\n",
      "Subset of initial_df with rows where values have changed:\n",
      "      A  B   C\n",
      "row2  2  0   8\n",
      "row3  4  6  10\n"
     ]
    }
   ],
   "source": [
    "import pandas as pd\n",
    "\n",
    "# Sample DataFrames for demonstration\n",
    "# Ensure initial_df and final_df have the same index and columns\n",
    "initial_df = pd.DataFrame({\n",
    "    'A': [1, 2, 3],\n",
    "    'B': [4, 5, 6],\n",
    "    'C': [7, 8, 9]\n",
    "}, index=['row1', 'row2', 'row3'])\n",
    "\n",
    "print(initial_df)\n",
    "\n",
    "final_df = pd.DataFrame({\n",
    "    'A': [1, 2, 4],\n",
    "    'B': [4, 0, 6],\n",
    "    'C': [7, 8, 10]\n",
    "}, index=['row1', 'row2', 'row3'])\n",
    "\n",
    "print(final_df)\n",
    "\n",
    "# Create a Boolean mask where values differ between initial_df and final_df\n",
    "mask = (initial_df != final_df).any(axis=1)\n",
    "\n",
    "# Use the mask to filter initial_df for rows with changes\n",
    "changed_rows_df = final_df[mask]\n",
    "\n",
    "\n",
    "changes = final_df[~final_df.eq(initial_df).all(axis=1)]\n",
    "\n",
    "\n",
    "# Display the result\n",
    "print(\"Subset of initial_df with rows where values have changed:\")\n",
    "\n",
    "print(changes)\n",
    "# print(changed_rows_df)"
   ]
  },
  {
   "cell_type": "code",
   "execution_count": 2,
   "metadata": {},
   "outputs": [],
   "source": [
    "import pySldWrap.sw_tools as sw_tools\n",
    "import importlib\n",
    "import os\n",
    "from pathlib import Path\n",
    "import time "
   ]
  },
  {
   "cell_type": "code",
   "execution_count": 5,
   "metadata": {},
   "outputs": [],
   "source": [
    "\n",
    "# !Solidworks must be open before running the code below: \n",
    "\n",
    "#reloads sw_tools module so changes in .py file actually work without restarting the kernel when running the cell blocks below\n",
    "#reload causes all variables to be lost; do not do it in other cells besides this block\n",
    "importlib.reload(sw_tools)\n",
    "sw_tools.connect_sw(\"2024\")  # open connection and pass Solidworks version"
   ]
  },
  {
   "cell_type": "markdown",
   "metadata": {},
   "source": [
    "### Retrieve file properties for a **single part**"
   ]
  },
  {
   "cell_type": "code",
   "execution_count": 95,
   "metadata": {},
   "outputs": [
    {
     "data": {
      "text/plain": [
       "'\\nCode for a single part\\n'"
      ]
     },
     "execution_count": 95,
     "metadata": {},
     "output_type": "execute_result"
    }
   ],
   "source": [
    "'''\n",
    "Code for a single part\n",
    "'''\n",
    "# part_path = './Test_files\\LS3.SLDPRT'\n",
    "# model = sw_tools.open_part(part_path)  # open the model, link is returned\n",
    "# custom_properties = sw_tools.get_custom_file_properties(part_path)\n",
    "\n",
    "# a = sw_tools.export_custom_file_properties(custom_properties)"
   ]
  },
  {
   "cell_type": "markdown",
   "metadata": {},
   "source": [
    "### Retrieve file properties for **multiple parts**"
   ]
  },
  {
   "cell_type": "code",
   "execution_count": 17,
   "metadata": {},
   "outputs": [],
   "source": [
    "importlib.reload(sw_tools)\n",
    "sw_tools.connect_sw(\"2024\")\n",
    "\n",
    "directory = \"./Test_files\"\n",
    "part_path = ''\n",
    "\n",
    "# start_time = time.perf_counter()\n",
    "\n",
    "for path, folders, files in os.walk(directory):\n",
    "    for filename in files:\n",
    "        # check for part files and assemblies\n",
    "        try:\n",
    "            if filename.endswith(('.SLDPRT','.SLDASM')):\n",
    "                part_path = os.path.join(directory, filename)\n",
    "                model = sw_tools.open_part(part_path)\n",
    "                custom_properties = sw_tools.get_custom_file_properties(model)\n",
    "                sw_tools.export_custom_file_properties(custom_properties)\n",
    "                #close files to reduce memory taken up; essential for reducing time taken for whole process\n",
    "                sw_tools.close(part_path.split('\\\\')[-1])\n",
    "        except:\n",
    "            continue\n",
    "\n",
    "# end_time = time.perf_counter()\n",
    "# execution_time = end_time - start_time\n",
    "# print(f\"Execution time: {execution_time:.2f} seconds\")"
   ]
  },
  {
   "cell_type": "markdown",
   "metadata": {},
   "source": [
    "### Modify values in solidworks part file/assembly using excel file"
   ]
  },
  {
   "cell_type": "code",
   "execution_count": 4,
   "metadata": {},
   "outputs": [
    {
     "name": "stdout",
     "output_type": "stream",
     "text": [
      "./Test_files\\LS1.SLDPRT\n",
      "./Test_files\\LS2.SLDPRT\n",
      "./Test_files\\LS3.SLDPRT\n",
      "./Test_files\\LS4a.SLDPRT\n",
      "./Test_files\\LS4b.SLDPRT\n",
      "./Test_files\\LS5.SLDPRT\n"
     ]
    }
   ],
   "source": [
    "\n",
    "# !need to make this work with actual BOM\n",
    "# !convert to exe?\n",
    "\n",
    "importlib.reload(sw_tools)\n",
    "sw_tools.connect_sw(\"2024\")\n",
    "\n",
    "# user will input absolute location? of excel file\n",
    "# user will input absoute location? of part files and assemblies\n",
    "import pandas as pd\n",
    "import datetime\n",
    "\n",
    "directory = \"./Test_files\"\n",
    "# part_path = ''\n",
    "\n",
    "def modify_file_properties_from_excel(directory,filename):\n",
    "    '''\n",
    "    Reads data from an existing BOM in an excel file\n",
    "    Reads names and values of file properties in excel file\n",
    "    Checks these against names and values in part/assembly files\n",
    "    Overwrites them\n",
    "    '''\n",
    "    # *create a for loop that does this for every name in the title column:\n",
    "    # *read the title and associate it with a name of a part file or assembly; if title contains assembly then its an assembly; if not its not\n",
    "    # *open the specified file or assembly\n",
    "    # *get the file properties in that part file/assembly\n",
    "    # *replace the file properties in the part file/assembly with those in the excel file\n",
    "\n",
    "    # Generate a new log file name\n",
    "    logfile_count = 1\n",
    "    while os.path.exists(f\"Solidworks_Log_File{logfile_count}.txt\"):\n",
    "        logfile_count += 1\n",
    "    logfile_name = f\"Solidworks_Log_File{logfile_count}.txt\"\n",
    "\n",
    "    excel_df = pd.read_excel(filename)\n",
    "    column_list = list(excel_df.loc[:,\"Title\"])\n",
    "    #accesses the first excel row to retrieve names of rows\n",
    "    excel_df_2 = excel_df.set_index(excel_df.columns[0])\n",
    "\n",
    "    skip_columns = {'Enterprise Part No.', 'Title', 'V_Name', 'Revision', 'Creation Date', 'DrawnDate', 'Material', 'CheckedDate', 'EngAppDate', 'MfgAppDate', 'QAAppDate', 'Remarks'}\n",
    "    new_excel_df = excel_df_2.drop(columns=skip_columns, errors='ignore')\n",
    "\n",
    "    for i in range(excel_df.shape[0]):\n",
    "        #checking if its a part file or assembly file\n",
    "        if (\"Assembly\" or \"Assem\") in column_list[i]:\n",
    "            filename = column_list[i] + '.SLDASM'\n",
    "        else:\n",
    "            filename = column_list[i] + '.SLDPRT'\n",
    "\n",
    "        property_value_list = list(new_excel_df.loc[column_list[i],:])\n",
    "\n",
    "        #open part/assembly and get custom file properties\n",
    "        try:\n",
    "            part_path = os.path.join(directory, filename)\n",
    "            print(part_path)\n",
    "            model = sw_tools.open_part(part_path)\n",
    "            sw_tools.set_file_properties(model,property_value_list)\n",
    "            sw_tools.close(part_path.split('\\\\')[-1])\n",
    "        \n",
    "        # Create log file for error handling\n",
    "        except Exception as e:\n",
    "            error_timestamp = datetime.datetime.now().strftime(\"%Y-%m-%d %H:%M:%S\")\n",
    "            print(f'Error processing {filename}: {e}. See {logfile_name} for details.')\n",
    "            with open(logfile_name, 'a') as f:\n",
    "                f.write(f\"{error_timestamp} - {part_path} - Error: {e}\\n\")  \n",
    "\n",
    "modify_file_properties_from_excel(directory,'custom_properties.xlsx')\n"
   ]
  },
  {
   "cell_type": "code",
   "execution_count": 2,
   "metadata": {},
   "outputs": [],
   "source": [
    "import pySldWrap.sw_tools as sw_tools\n",
    "import importlib\n",
    "import os\n",
    "import time \n",
    "from pathlib import Path\n",
    "\n",
    "import tkinter as tk\n",
    "from tkinter import filedialog\n",
    "import os\n",
    "import pandas as pd\n",
    "import win32com.client\n",
    "import win32gui\n",
    "\n",
    "from watchdog.observers import Observer\n",
    "from watchdog.events import FileSystemEventHandler\n",
    "\n",
    "import datetime\n",
    "import numpy as np"
   ]
  },
  {
   "cell_type": "code",
   "execution_count": 3,
   "metadata": {},
   "outputs": [],
   "source": [
    "def prompt_user_for_path(path_name,path_type):\n",
    "    '''\n",
    "    Gets filename for some processing, returns file_path for additional processing\n",
    "    '''\n",
    "    root = tk.Tk()\n",
    "    root.withdraw()\n",
    "\n",
    "    script_dir = os.path.dirname(os.getcwd())\n",
    "\n",
    "    #get file path or directory\n",
    "    if path_type == 'File':\n",
    "        #get file path\n",
    "        file_path = filedialog.askopenfilename(\n",
    "            title=f\"{path_name}\", \n",
    "            initialdir=script_dir \n",
    "        )\n",
    "    if path_type == 'Directory':\n",
    "        file_path = filedialog.askdirectory(\n",
    "            title=f\"{path_name}\", \n",
    "            initialdir=script_dir \n",
    "        )\n",
    "\n",
    "    # Bring the file dialog window to the front\n",
    "    root.deiconify()  # Make the root window visible (it's already hidden)\n",
    "    root.focus_force()  # Force the root window to get focus\n",
    "    root.after(1, lambda: root.withdraw())  # Hide the root window after a short delay\n",
    "\n",
    "    return file_path"
   ]
  },
  {
   "cell_type": "code",
   "execution_count": 5,
   "metadata": {},
   "outputs": [],
   "source": [
    "import pandas as pd\n",
    "import datetime\n",
    "\n",
    "importlib.reload(sw_tools)\n",
    "sw_tools.connect_sw(\"2024\")\n",
    "\n",
    "directory = prompt_user_for_path('Select your assembly/part file directory','Directory')\n",
    "# part_path = ''\n",
    "\n",
    "def modify_sw_file_properties(directory, df_of_modified_files):\n",
    "    '''\n",
    "    Reads from a dataframe containing names of partfiles/assemblies whose file properties have been modified\n",
    "    Iterates through these files based on a user provided directory\n",
    "    \n",
    "\n",
    "    Reads names and values of file properties in excel file\n",
    "    Checks these against names and values in part/assembly files\n",
    "    Overwrites them\n",
    "    '''\n",
    "    # *create a for loop that does this for every name in the title column:\n",
    "    # *read the title and associate it with a name of a part file or assembly; if title contains assembly then its an assembly; if not its not\n",
    "    # *open the specified file or assembly\n",
    "    # *get the file properties in that part file/assembly\n",
    "    # *replace the file properties in the part file/assembly with those in the excel file\n",
    "\n",
    "    # Generate a new log file name\n",
    "    logfile_count = 1\n",
    "    while os.path.exists(f\"Solidworks_Log_File{logfile_count}.txt\"):\n",
    "        logfile_count += 1\n",
    "    logfile_name = f\"Solidworks_Log_File{logfile_count}.txt\"\n",
    "\n",
    "    column_list = list(df_of_modified_files.loc[:,\"Title\"])\n",
    "    new_column_list = [string.replace('\\n', '') for string in column_list]\n",
    "\n",
    "    #accesses the first excel row to retrieve names of rows\n",
    "    # excel_df_2 = df_of_modified_files.set_index(df_of_modified_files.columns[1])\n",
    "\n",
    "\n",
    "\n",
    "    # print('excel df:',excel_df_2)\n",
    "\n",
    "    skip_columns = {'S/N','Enterprise Part No.', 'Description', 'V_Name', 'Revision', 'Creation Date', 'DrawnDate', 'Material', 'CheckedDate', 'EngAppDate', 'MfgAppDate', 'QAAppDate', 'Remarks', 'DrawnBy', 'CheckedBy', 'EngApproval', 'MfgApproval', 'QAApproval'}\n",
    "\n",
    "\n",
    "    # new_excel_df = excel_df_2.drop(columns=skip_columns, errors='ignore')\n",
    "\n",
    "    new_excel_df = df_of_modified_files.drop(columns=skip_columns, errors='ignore')\n",
    "\n",
    "    print('excel df:',new_excel_df)\n",
    "\n",
    "\n",
    "    for i in range(df_of_modified_files.shape[0]):\n",
    "        #checking if its a part file or assembly file\n",
    "\n",
    "        if \"Assembly\" in str(new_column_list[i]) or \"Assem\" in str(new_column_list[i]):\n",
    "            filename = new_column_list[i] + '.SLDASM'\n",
    "        else:\n",
    "            filename = new_column_list[i] + '.SLDPRT'\n",
    "\n",
    "        property_value_list = list(new_excel_df.loc[column_list[i],:])\n",
    "\n",
    "        property_value_list = [str(value) if pd.notna(value) else '--' for value in list(new_excel_df.loc[column_list[i],:])]\n",
    "\n",
    "        print('proplist:',property_value_list)\n",
    "\n",
    "        #open part/assembly and get custom file properties\n",
    "        try:\n",
    "            part_path = os.path.join(directory, filename)\n",
    "            print(part_path)\n",
    "            if \"Assembly\" in filename or \"Assem\" in filename:\n",
    "                model = sw_tools.open_assembly(part_path)\n",
    "            else:\n",
    "                model = sw_tools.open_part(part_path)\n",
    "            sw_tools.set_file_properties(model,property_value_list)\n",
    "            sw_tools.close(part_path.split('\\\\')[-1])\n",
    "        \n",
    "        # Create log file for error handling\n",
    "        except Exception as e:\n",
    "            error_timestamp = datetime.datetime.now().strftime(\"%Y-%m-%d %H:%M:%S\")\n",
    "            print(f'Error processing {filename}: {e}. See {logfile_name} for details.')\n",
    "            with open(logfile_name, 'a') as f:\n",
    "                f.write(f\"{error_timestamp} - {part_path} - Error: {e}\\n\")  "
   ]
  }
 ],
 "metadata": {
  "kernelspec": {
   "display_name": "base",
   "language": "python",
   "name": "python3"
  },
  "language_info": {
   "codemirror_mode": {
    "name": "ipython",
    "version": 3
   },
   "file_extension": ".py",
   "mimetype": "text/x-python",
   "name": "python",
   "nbconvert_exporter": "python",
   "pygments_lexer": "ipython3",
   "version": "3.11.7"
  }
 },
 "nbformat": 4,
 "nbformat_minor": 2
}
