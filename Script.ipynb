{
 "cells": [
  {
   "cell_type": "code",
   "execution_count": 85,
   "metadata": {},
   "outputs": [],
   "source": [
    "import pySldWrap.sw_tools as sw_tools\n",
    "import importlib\n",
    "import os\n",
    "from pathlib import Path"
   ]
  },
  {
   "cell_type": "code",
   "execution_count": 96,
   "metadata": {},
   "outputs": [],
   "source": [
    "\n",
    "# !Solidworks must be open before running the code below: \n",
    "\n",
    "#reloads sw_tools module so changes in .py file actually work without restarting the kernel when running the cell blocks below\n",
    "#reload causes all variables to be lost; do not do it in other cells besides this block\n",
    "importlib.reload(sw_tools)\n",
    "sw_tools.connect_sw(\"2024\")  # open connection and pass Solidworks version"
   ]
  },
  {
   "cell_type": "markdown",
   "metadata": {},
   "source": [
    "### Code to retrieve file properties for a **single part**"
   ]
  },
  {
   "cell_type": "code",
   "execution_count": 95,
   "metadata": {},
   "outputs": [
    {
     "data": {
      "text/plain": [
       "'\\nCode for a single part\\n'"
      ]
     },
     "execution_count": 95,
     "metadata": {},
     "output_type": "execute_result"
    }
   ],
   "source": [
    "'''\n",
    "Code for a single part\n",
    "'''\n",
    "# part_path = './Test_files\\LS3.SLDPRT'\n",
    "# model = sw_tools.open_part(part_path)  # open the model, link is returned\n",
    "# custom_properties = sw_tools.get_custom_file_properties(part_path)\n",
    "\n",
    "# a = sw_tools.export_custom_file_properties(custom_properties)"
   ]
  },
  {
   "cell_type": "markdown",
   "metadata": {},
   "source": [
    "### Code to retrieve file properties for a **multiple parts**"
   ]
  },
  {
   "cell_type": "code",
   "execution_count": 97,
   "metadata": {},
   "outputs": [
    {
     "ename": "AttributeError",
     "evalue": "'NoneType' object has no attribute 'Extension'",
     "output_type": "error",
     "traceback": [
      "\u001b[1;31m---------------------------------------------------------------------------\u001b[0m",
      "\u001b[1;31mAttributeError\u001b[0m                            Traceback (most recent call last)",
      "Cell \u001b[1;32mIn[97], line 11\u001b[0m\n\u001b[0;32m      9\u001b[0m part_path \u001b[38;5;241m=\u001b[39m os\u001b[38;5;241m.\u001b[39mpath\u001b[38;5;241m.\u001b[39mjoin(directory, filename)\n\u001b[0;32m     10\u001b[0m model \u001b[38;5;241m=\u001b[39m sw_tools\u001b[38;5;241m.\u001b[39mopen_part(part_path)\n\u001b[1;32m---> 11\u001b[0m custom_properties \u001b[38;5;241m=\u001b[39m \u001b[43msw_tools\u001b[49m\u001b[38;5;241;43m.\u001b[39;49m\u001b[43mget_custom_file_properties\u001b[49m\u001b[43m(\u001b[49m\u001b[43mpart_path\u001b[49m\u001b[43m)\u001b[49m\n\u001b[0;32m     12\u001b[0m sw_tools\u001b[38;5;241m.\u001b[39mexport_custom_file_properties(custom_properties)\n",
      "File \u001b[1;32mc:\\Users\\Gerald\\OneDrive - Singapore University of Technology and Design\\Desktop\\Kabam Internship\\Solidworks Wrapper Testing\\pySldWrap\\pySldWrap\\sw_tools.py:186\u001b[0m, in \u001b[0;36mget_custom_file_properties\u001b[1;34m(path)\u001b[0m\n\u001b[0;32m    183\u001b[0m \u001b[38;5;66;03m# Custom properties can be defined at the document or configuration level\u001b[39;00m\n\u001b[0;32m    184\u001b[0m \u001b[38;5;66;03m# Default configuration is being used\u001b[39;00m\n\u001b[0;32m    185\u001b[0m configuration \u001b[38;5;241m=\u001b[39m \u001b[38;5;124m'\u001b[39m\u001b[38;5;124mDefault\u001b[39m\u001b[38;5;124m'\u001b[39m\n\u001b[1;32m--> 186\u001b[0m custom_property_manager \u001b[38;5;241m=\u001b[39m \u001b[43mmodel\u001b[49m\u001b[38;5;241;43m.\u001b[39;49m\u001b[43mExtension\u001b[49m\u001b[38;5;241m.\u001b[39mCustomPropertyManager(configuration)\n\u001b[0;32m    188\u001b[0m num_properties \u001b[38;5;241m=\u001b[39m custom_property_manager\u001b[38;5;241m.\u001b[39mCount\n\u001b[0;32m    190\u001b[0m \u001b[38;5;250m\u001b[39m\u001b[38;5;124;03m'''\u001b[39;00m\n\u001b[0;32m    191\u001b[0m \u001b[38;5;124;03mThese are system objects passed by reference, allowing the method to modify the orginal value.\u001b[39;00m\n\u001b[0;32m    192\u001b[0m \n\u001b[1;32m   (...)\u001b[0m\n\u001b[0;32m    198\u001b[0m \u001b[38;5;124;03m\u001b[39;00m\n\u001b[0;32m    199\u001b[0m \u001b[38;5;124;03m'''\u001b[39;00m\n",
      "\u001b[1;31mAttributeError\u001b[0m: 'NoneType' object has no attribute 'Extension'"
     ]
    }
   ],
   "source": [
    "directory = \"./Test_files\"\n",
    "\n",
    "part_path = ''\n",
    "\n",
    "for path, folders, files in os.walk(directory):\n",
    "    for filename in files:\n",
    "        # check for part files and assemblies\n",
    "        if filename.endswith(('.SLDPRT','.SLDASM')):\n",
    "            part_path = os.path.join(directory, filename)\n",
    "            model = sw_tools.open_part(part_path)\n",
    "            custom_properties = sw_tools.get_custom_file_properties(part_path)\n",
    "            sw_tools.export_custom_file_properties(custom_properties)\n"
   ]
  },
  {
   "cell_type": "code",
   "execution_count": 30,
   "metadata": {},
   "outputs": [
    {
     "data": {
      "text/html": [
       "<div>\n",
       "<style scoped>\n",
       "    .dataframe tbody tr th:only-of-type {\n",
       "        vertical-align: middle;\n",
       "    }\n",
       "\n",
       "    .dataframe tbody tr th {\n",
       "        vertical-align: top;\n",
       "    }\n",
       "\n",
       "    .dataframe thead th {\n",
       "        text-align: right;\n",
       "    }\n",
       "</style>\n",
       "<table border=\"1\" class=\"dataframe\">\n",
       "  <thead>\n",
       "    <tr style=\"text-align: right;\">\n",
       "      <th></th>\n",
       "      <th>0</th>\n",
       "    </tr>\n",
       "  </thead>\n",
       "  <tbody>\n",
       "    <tr>\n",
       "      <th>Property Names</th>\n",
       "      <td>property_names</td>\n",
       "    </tr>\n",
       "    <tr>\n",
       "      <th>Property Values</th>\n",
       "      <td>property_values</td>\n",
       "    </tr>\n",
       "  </tbody>\n",
       "</table>\n",
       "</div>"
      ],
      "text/plain": [
       "                               0\n",
       "Property Names    property_names\n",
       "Property Values  property_values"
      ]
     },
     "execution_count": 30,
     "metadata": {},
     "output_type": "execute_result"
    }
   ],
   "source": [
    "import pandas as pd\n",
    "\n",
    "df2 = pd.DataFrame({\n",
    "    'Property Names': ['property_names'],\n",
    "    'Property Values': ['property_values']\n",
    "})\n",
    "\n",
    "df2 = df2.transpose()\n",
    "\n",
    "# Export to Excel\n",
    "# df.to_excel('custom_properties.xlsx', index=False)\n",
    "\n",
    "df2"
   ]
  },
  {
   "cell_type": "markdown",
   "metadata": {},
   "source": [
    "# Overall Steps\n",
    "1. Make a for loop that runs edit custom properties for parts and assemblies in a directory."
   ]
  },
  {
   "cell_type": "code",
   "execution_count": 7,
   "metadata": {},
   "outputs": [],
   "source": [
    "sw_tools.close(path) "
   ]
  }
 ],
 "metadata": {
  "kernelspec": {
   "display_name": "base",
   "language": "python",
   "name": "python3"
  },
  "language_info": {
   "codemirror_mode": {
    "name": "ipython",
    "version": 3
   },
   "file_extension": ".py",
   "mimetype": "text/x-python",
   "name": "python",
   "nbconvert_exporter": "python",
   "pygments_lexer": "ipython3",
   "version": "3.11.7"
  }
 },
 "nbformat": 4,
 "nbformat_minor": 2
}
