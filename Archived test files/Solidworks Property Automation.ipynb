{
 "cells": [
  {
   "cell_type": "code",
   "execution_count": 3,
   "metadata": {},
   "outputs": [],
   "source": [
    "import subprocess as sb\n",
    "import win32com.client\n",
    "import pythoncom"
   ]
  },
  {
   "cell_type": "code",
   "execution_count": 5,
   "metadata": {},
   "outputs": [],
   "source": [
    "#works \n",
    "def startSW():\n",
    "    ## Starts Solidworks\n",
    "    import subprocess as sb\n",
    "    SW_PROCESS_NAME = r'\"C:\\Program Files\\Dassault Systemes\\SOLIDWORKS 3DEXPERIENCE\\win_b64\\code\\bin\\CATSTART.exe\" -run \"SWXDesktopLauncher.exe\" -object \"-Url=https://r1132101957295-ap2-space.3dexperience.3ds.com:443/enovia --AppName=\\\"SWXCSWK_AP\\\" -MyAppsURL=https://r1132101957295-'\n",
    "    \n",
    "    # 'C:\\Users\\Gerald\\OneDrive - Singapore University of Technology and Design\\Desktop\\SOLIDWORKS Connected'\n",
    "    sb.Popen(SW_PROCESS_NAME)\n",
    "\n",
    "def shutSW():\n",
    "    ## Kills Solidworks\n",
    "    sb.call('Taskkill /IM SLDWORKS.exe /F')\n",
    "\n",
    "def connectToSW():\n",
    "    ## With Solidworks window open, connects to application      \n",
    "    sw = win32com.client.Dispatch(\"SLDWORKS.Application\")\n",
    "    return sw\n",
    "\n",
    "def openFile(sw, Path):\n",
    "    ## With connection established (sw), opens part, assembly, or drawing file            \n",
    "    f = sw.getopendocspec(Path)\n",
    "    model = sw.opendoc7(f)\n",
    "    return model\n",
    "\n",
    "def updatePrt(model):\n",
    "    ## Rebuilds the active part, assembly, or drawing (model)\n",
    "    model.EditRebuild3\n"
   ]
  },
  {
   "cell_type": "code",
   "execution_count": 9,
   "metadata": {},
   "outputs": [],
   "source": [
    "startSW()\n",
    "sw = connectToSW()\n",
    "path = 'LS1.SLDPRT'\n",
    "model = openFile(sw, \"{path}\")\n",
    "# updatePrt(model)"
   ]
  },
  {
   "cell_type": "code",
   "execution_count": 8,
   "metadata": {},
   "outputs": [],
   "source": [
    "sw = connectToSW()\n",
    "path = 'LS1.SLDPRT'\n",
    "model = openFile(sw, \"./{path}\")"
   ]
  },
  {
   "cell_type": "code",
   "execution_count": 10,
   "metadata": {},
   "outputs": [],
   "source": [
    "path = 'LS1.SLDPRT'\n",
    "model = openFile(sw, \"./{path}\")"
   ]
  },
  {
   "cell_type": "code",
   "execution_count": null,
   "metadata": {},
   "outputs": [],
   "source": [
    "parts = [\n",
    "    'path\\\\to\\\\part1.sldprt',\n",
    "    'path\\\\to\\\\part2.sldprt',\n",
    "    'path\\\\to\\\\part3.sldprt'\n",
    "    ]\n",
    "\n",
    "startSW()\n",
    "sw = connectToSW()\n",
    "\n",
    "for p in parts:\n",
    "    model = openFile(sw, p)\n",
    "    updateProperty(model, 'Drawn By', 'Mason L')\n",
    "    updateProperty(model, 'Date', 'Today')\n",
    "    updatePrt(model)\n",
    "    save_path = p.split('.')[0] + '.slddrw'\n",
    "    make6ViewDrawingFromFile(sw, p, save_path)"
   ]
  },
  {
   "cell_type": "code",
   "execution_count": null,
   "metadata": {},
   "outputs": [],
   "source": [
    "def getProperties(model):\n",
    "    ## Allows you to see a list of custom properties associated with the active part, assembly, or drawing (model)\n",
    "    modelExt = model.Extension\n",
    "    p = modelExt.CustomPropertyManager(\"\")\n",
    "    properties = p.GetNames\n",
    "    return properties\n",
    "\n",
    "def updateProperty(model, propertyName:str, value:str):\n",
    "    ## Allows you to update a specific property in the active part, assembly, or drawing (model)\n",
    "    modelExt = model.Extension\n",
    "    p = modelExt.CustomPropertyManager(\"\")\n",
    "    p.set2(propertyName, value)\n",
    "    model.EditRebuild3\n",
    "    model.save()"
   ]
  }
 ],
 "metadata": {
  "kernelspec": {
   "display_name": "base",
   "language": "python",
   "name": "python3"
  },
  "language_info": {
   "codemirror_mode": {
    "name": "ipython",
    "version": 3
   },
   "file_extension": ".py",
   "mimetype": "text/x-python",
   "name": "python",
   "nbconvert_exporter": "python",
   "pygments_lexer": "ipython3",
   "version": "3.11.7"
  }
 },
 "nbformat": 4,
 "nbformat_minor": 2
}
